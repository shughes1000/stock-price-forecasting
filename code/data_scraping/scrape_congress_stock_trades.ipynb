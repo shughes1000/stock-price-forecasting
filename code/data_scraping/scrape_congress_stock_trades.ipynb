{
 "cells": [
  {
   "cell_type": "code",
   "execution_count": 1,
   "metadata": {},
   "outputs": [
    {
     "data": {
      "text/plain": [
       "30"
      ]
     },
     "execution_count": 1,
     "metadata": {},
     "output_type": "execute_result"
    }
   ],
   "source": [
    "dow_jones_tickers = [\n",
    "    \"AAPL\", \"AMGN\", \"AXP\", \"BA\", \"CAT\", \"CRM\", \"CSCO\", \"CVX\", \"DIS\", \"DOW\",\n",
    "    \"GS\", \"HD\", \"HON\", \"IBM\", \"INTC\", \"JNJ\", \"JPM\", \"KO\", \"MCD\", \"MMM\",\n",
    "    \"MRK\", \"MSFT\", \"NKE\", \"PG\", \"TRV\", \"UNH\", \"V\", \"VZ\", \"WBA\", \"WMT\"\n",
    "]\n",
    "\n",
    "len(dow_jones_tickers)"
   ]
  },
  {
   "cell_type": "code",
   "execution_count": 2,
   "metadata": {},
   "outputs": [],
   "source": [
    "from selenium import webdriver\n",
    "from selenium.webdriver.chrome.options import Options\n",
    "\n",
    "options = Options()\n",
    "# options.add_argument('--headless')\n",
    "\n",
    "driver = webdriver.Chrome(options=options)"
   ]
  },
  {
   "cell_type": "code",
   "execution_count": 3,
   "metadata": {},
   "outputs": [
    {
     "name": "stderr",
     "output_type": "stream",
     "text": [
      "C:\\Users\\mhugh\\AppData\\Local\\Temp\\ipykernel_1572\\1505572871.py:2: TqdmExperimentalWarning: Using `tqdm.autonotebook.tqdm` in notebook mode. Use `tqdm.tqdm` instead to force console mode (e.g. in jupyter console)\n",
      "  from tqdm.autonotebook import tqdm\n"
     ]
    }
   ],
   "source": [
    "from selenium.webdriver.common.by import By\n",
    "from tqdm.autonotebook import tqdm\n",
    "import time\n",
    "\n",
    "def scrape_stock(stock):\n",
    "    for _ in range(5):\n",
    "        try:\n",
    "            driver.get(url=f\"https://www.quiverquant.com/congresstrading/stock/{stock}\")\n",
    "            time.sleep(5)\n",
    "\n",
    "            table = driver.find_element(By.CLASS_NAME, \"table-congress\")\n",
    "\n",
    "            rows = table.find_elements(By.XPATH, \"./tbody//tr\")\n",
    "\n",
    "            return [\n",
    "                {\n",
    "                    'Stock Name': row.find_element(By.XPATH, './td[1]/a/span[1]').text,\n",
    "                    'Transaction Type': row.find_element(By.XPATH, './td[2]/a/span[1]').text,\n",
    "                    'Transaction Amount': row.find_element(By.XPATH, './td[2]/a/span[2]').text,\n",
    "                    'Politician Name': row.find_element(By.XPATH, './td[3]/a/span[1]').text,\n",
    "                    'Politician Role': row.find_element(By.XPATH, './td[3]/a/span[2]').text,\n",
    "                    'Date Filed': row.find_element(By.XPATH, './td[4]/a').text,\n",
    "                    'Date Traded': row.find_element(By.XPATH, './td[5]/a').text,\n",
    "                }\n",
    "                for row in tqdm(rows)\n",
    "            ]\n",
    "        except Exception as e:\n",
    "            print(f\"Error with {stock}: {e}\")\n",
    "        \n",
    "    raise ValueError('5 consecutive errors!')"
   ]
  },
  {
   "cell_type": "code",
   "execution_count": 4,
   "metadata": {},
   "outputs": [
    {
     "data": {
      "application/vnd.jupyter.widget-view+json": {
       "model_id": "d812fb4240194b0db9c951fc0317985b",
       "version_major": 2,
       "version_minor": 0
      },
      "text/plain": [
       "  0%|          | 0/30 [00:00<?, ?it/s]"
      ]
     },
     "metadata": {},
     "output_type": "display_data"
    },
    {
     "data": {
      "application/vnd.jupyter.widget-view+json": {
       "model_id": "f2aa6698dced415caa586766c5219778",
       "version_major": 2,
       "version_minor": 0
      },
      "text/plain": [
       "  0%|          | 0/748 [00:00<?, ?it/s]"
      ]
     },
     "metadata": {},
     "output_type": "display_data"
    },
    {
     "data": {
      "application/vnd.jupyter.widget-view+json": {
       "model_id": "1ec99f7220e84de399d4592db54c02ef",
       "version_major": 2,
       "version_minor": 0
      },
      "text/plain": [
       "  0%|          | 0/128 [00:00<?, ?it/s]"
      ]
     },
     "metadata": {},
     "output_type": "display_data"
    },
    {
     "data": {
      "application/vnd.jupyter.widget-view+json": {
       "model_id": "22dc3bef0c504b049aea017d3a24ba93",
       "version_major": 2,
       "version_minor": 0
      },
      "text/plain": [
       "  0%|          | 0/99 [00:00<?, ?it/s]"
      ]
     },
     "metadata": {},
     "output_type": "display_data"
    },
    {
     "data": {
      "application/vnd.jupyter.widget-view+json": {
       "model_id": "a118bf3dcac4465f8fe3412ec3789b75",
       "version_major": 2,
       "version_minor": 0
      },
      "text/plain": [
       "  0%|          | 0/164 [00:00<?, ?it/s]"
      ]
     },
     "metadata": {},
     "output_type": "display_data"
    },
    {
     "data": {
      "application/vnd.jupyter.widget-view+json": {
       "model_id": "8b6c19478bb54d07acb5c086139414e5",
       "version_major": 2,
       "version_minor": 0
      },
      "text/plain": [
       "  0%|          | 0/101 [00:00<?, ?it/s]"
      ]
     },
     "metadata": {},
     "output_type": "display_data"
    },
    {
     "data": {
      "application/vnd.jupyter.widget-view+json": {
       "model_id": "d7b989334b7945398aacd05b9a97fe4f",
       "version_major": 2,
       "version_minor": 0
      },
      "text/plain": [
       "  0%|          | 0/96 [00:00<?, ?it/s]"
      ]
     },
     "metadata": {},
     "output_type": "display_data"
    },
    {
     "data": {
      "application/vnd.jupyter.widget-view+json": {
       "model_id": "8320166485dc4757ad7cd9385b769e98",
       "version_major": 2,
       "version_minor": 0
      },
      "text/plain": [
       "  0%|          | 0/156 [00:00<?, ?it/s]"
      ]
     },
     "metadata": {},
     "output_type": "display_data"
    },
    {
     "data": {
      "application/vnd.jupyter.widget-view+json": {
       "model_id": "54f98251ffd4412fa69a483bb3615910",
       "version_major": 2,
       "version_minor": 0
      },
      "text/plain": [
       "  0%|          | 0/181 [00:00<?, ?it/s]"
      ]
     },
     "metadata": {},
     "output_type": "display_data"
    },
    {
     "data": {
      "application/vnd.jupyter.widget-view+json": {
       "model_id": "6bb0687a7a32454aaa15f37c6ad8eaa2",
       "version_major": 2,
       "version_minor": 0
      },
      "text/plain": [
       "  0%|          | 0/284 [00:00<?, ?it/s]"
      ]
     },
     "metadata": {},
     "output_type": "display_data"
    },
    {
     "data": {
      "application/vnd.jupyter.widget-view+json": {
       "model_id": "50c03ebb9673413fbe92be2ccf9ede18",
       "version_major": 2,
       "version_minor": 0
      },
      "text/plain": [
       "  0%|          | 0/66 [00:00<?, ?it/s]"
      ]
     },
     "metadata": {},
     "output_type": "display_data"
    },
    {
     "data": {
      "application/vnd.jupyter.widget-view+json": {
       "model_id": "be4093a7ae0245aebedf14d79bc88920",
       "version_major": 2,
       "version_minor": 0
      },
      "text/plain": [
       "  0%|          | 0/101 [00:00<?, ?it/s]"
      ]
     },
     "metadata": {},
     "output_type": "display_data"
    },
    {
     "data": {
      "application/vnd.jupyter.widget-view+json": {
       "model_id": "40d6b0c9944f4c1485c0336dcf21ba8a",
       "version_major": 2,
       "version_minor": 0
      },
      "text/plain": [
       "  0%|          | 0/228 [00:00<?, ?it/s]"
      ]
     },
     "metadata": {},
     "output_type": "display_data"
    },
    {
     "data": {
      "application/vnd.jupyter.widget-view+json": {
       "model_id": "f9919101986c4e2093427038c9f8a2c6",
       "version_major": 2,
       "version_minor": 0
      },
      "text/plain": [
       "  0%|          | 0/104 [00:00<?, ?it/s]"
      ]
     },
     "metadata": {},
     "output_type": "display_data"
    },
    {
     "data": {
      "application/vnd.jupyter.widget-view+json": {
       "model_id": "edc597b0b3eb45eaacb1a724a0011010",
       "version_major": 2,
       "version_minor": 0
      },
      "text/plain": [
       "  0%|          | 0/176 [00:00<?, ?it/s]"
      ]
     },
     "metadata": {},
     "output_type": "display_data"
    },
    {
     "data": {
      "application/vnd.jupyter.widget-view+json": {
       "model_id": "edc3b1fe00434f3587f3822de83de202",
       "version_major": 2,
       "version_minor": 0
      },
      "text/plain": [
       "  0%|          | 0/248 [00:00<?, ?it/s]"
      ]
     },
     "metadata": {},
     "output_type": "display_data"
    },
    {
     "data": {
      "application/vnd.jupyter.widget-view+json": {
       "model_id": "bd9d5149131b4176bd667be747bec537",
       "version_major": 2,
       "version_minor": 0
      },
      "text/plain": [
       "  0%|          | 0/268 [00:00<?, ?it/s]"
      ]
     },
     "metadata": {},
     "output_type": "display_data"
    },
    {
     "data": {
      "application/vnd.jupyter.widget-view+json": {
       "model_id": "c404de35fb8b49c8b1f1ca9b651c3dae",
       "version_major": 2,
       "version_minor": 0
      },
      "text/plain": [
       "  0%|          | 0/237 [00:00<?, ?it/s]"
      ]
     },
     "metadata": {},
     "output_type": "display_data"
    },
    {
     "data": {
      "application/vnd.jupyter.widget-view+json": {
       "model_id": "7f5a8cec51a54ae089e5e72396736ebe",
       "version_major": 2,
       "version_minor": 0
      },
      "text/plain": [
       "  0%|          | 0/157 [00:00<?, ?it/s]"
      ]
     },
     "metadata": {},
     "output_type": "display_data"
    },
    {
     "data": {
      "application/vnd.jupyter.widget-view+json": {
       "model_id": "9c7976243a46410da096f1c661f0d588",
       "version_major": 2,
       "version_minor": 0
      },
      "text/plain": [
       "  0%|          | 0/125 [00:00<?, ?it/s]"
      ]
     },
     "metadata": {},
     "output_type": "display_data"
    },
    {
     "data": {
      "application/vnd.jupyter.widget-view+json": {
       "model_id": "b0ea896c830142f09ea55d21d4f9d0ff",
       "version_major": 2,
       "version_minor": 0
      },
      "text/plain": [
       "  0%|          | 0/120 [00:00<?, ?it/s]"
      ]
     },
     "metadata": {},
     "output_type": "display_data"
    },
    {
     "data": {
      "application/vnd.jupyter.widget-view+json": {
       "model_id": "9d97469f2852410bbc92078d7699e6f4",
       "version_major": 2,
       "version_minor": 0
      },
      "text/plain": [
       "  0%|          | 0/169 [00:00<?, ?it/s]"
      ]
     },
     "metadata": {},
     "output_type": "display_data"
    },
    {
     "data": {
      "application/vnd.jupyter.widget-view+json": {
       "model_id": "4eb065efe0fa43b0a305672fb9df3116",
       "version_major": 2,
       "version_minor": 0
      },
      "text/plain": [
       "  0%|          | 0/817 [00:00<?, ?it/s]"
      ]
     },
     "metadata": {},
     "output_type": "display_data"
    },
    {
     "data": {
      "application/vnd.jupyter.widget-view+json": {
       "model_id": "3596a5f8c3644a699ea28b896fe27a12",
       "version_major": 2,
       "version_minor": 0
      },
      "text/plain": [
       "  0%|          | 0/105 [00:00<?, ?it/s]"
      ]
     },
     "metadata": {},
     "output_type": "display_data"
    },
    {
     "data": {
      "application/vnd.jupyter.widget-view+json": {
       "model_id": "241160814f654695affb405e11de3bae",
       "version_major": 2,
       "version_minor": 0
      },
      "text/plain": [
       "  0%|          | 0/220 [00:00<?, ?it/s]"
      ]
     },
     "metadata": {},
     "output_type": "display_data"
    },
    {
     "data": {
      "application/vnd.jupyter.widget-view+json": {
       "model_id": "e343227baabc4642a94fe32fd6aeb8e1",
       "version_major": 2,
       "version_minor": 0
      },
      "text/plain": [
       "  0%|          | 0/42 [00:00<?, ?it/s]"
      ]
     },
     "metadata": {},
     "output_type": "display_data"
    },
    {
     "data": {
      "application/vnd.jupyter.widget-view+json": {
       "model_id": "bb9ab553f98c460ba2c5bec2a9b9cc2c",
       "version_major": 2,
       "version_minor": 0
      },
      "text/plain": [
       "  0%|          | 0/211 [00:00<?, ?it/s]"
      ]
     },
     "metadata": {},
     "output_type": "display_data"
    },
    {
     "data": {
      "application/vnd.jupyter.widget-view+json": {
       "model_id": "42b86dc4269e400485c2c4a960e719ad",
       "version_major": 2,
       "version_minor": 0
      },
      "text/plain": [
       "  0%|          | 0/197 [00:00<?, ?it/s]"
      ]
     },
     "metadata": {},
     "output_type": "display_data"
    },
    {
     "data": {
      "application/vnd.jupyter.widget-view+json": {
       "model_id": "b0e5e2a8c0854b55bc90f54c95a42c14",
       "version_major": 2,
       "version_minor": 0
      },
      "text/plain": [
       "  0%|          | 0/208 [00:00<?, ?it/s]"
      ]
     },
     "metadata": {},
     "output_type": "display_data"
    },
    {
     "data": {
      "application/vnd.jupyter.widget-view+json": {
       "model_id": "bc36bd74925e4c9680fc231c20f1367b",
       "version_major": 2,
       "version_minor": 0
      },
      "text/plain": [
       "  0%|          | 0/76 [00:00<?, ?it/s]"
      ]
     },
     "metadata": {},
     "output_type": "display_data"
    },
    {
     "data": {
      "application/vnd.jupyter.widget-view+json": {
       "model_id": "0f3e3ed90b384f5fa6a0b7d91c7b7113",
       "version_major": 2,
       "version_minor": 0
      },
      "text/plain": [
       "  0%|          | 0/141 [00:00<?, ?it/s]"
      ]
     },
     "metadata": {},
     "output_type": "display_data"
    },
    {
     "data": {
      "text/plain": [
       "5973"
      ]
     },
     "execution_count": 4,
     "metadata": {},
     "output_type": "execute_result"
    }
   ],
   "source": [
    "data = []\n",
    "for stock in tqdm(dow_jones_tickers):\n",
    "    data += scrape_stock(stock)\n",
    "\n",
    "len(data)"
   ]
  },
  {
   "cell_type": "code",
   "execution_count": 5,
   "metadata": {},
   "outputs": [],
   "source": [
    "driver.quit()"
   ]
  },
  {
   "cell_type": "code",
   "execution_count": 6,
   "metadata": {},
   "outputs": [
    {
     "data": {
      "text/html": [
       "<div>\n",
       "<style scoped>\n",
       "    .dataframe tbody tr th:only-of-type {\n",
       "        vertical-align: middle;\n",
       "    }\n",
       "\n",
       "    .dataframe tbody tr th {\n",
       "        vertical-align: top;\n",
       "    }\n",
       "\n",
       "    .dataframe thead th {\n",
       "        text-align: right;\n",
       "    }\n",
       "</style>\n",
       "<table border=\"1\" class=\"dataframe\">\n",
       "  <thead>\n",
       "    <tr style=\"text-align: right;\">\n",
       "      <th></th>\n",
       "      <th>Stock Name</th>\n",
       "      <th>Transaction Type</th>\n",
       "      <th>Transaction Amount</th>\n",
       "      <th>Politician Name</th>\n",
       "      <th>Politician Role</th>\n",
       "      <th>Date Filed</th>\n",
       "      <th>Date Traded</th>\n",
       "    </tr>\n",
       "  </thead>\n",
       "  <tbody>\n",
       "    <tr>\n",
       "      <th>0</th>\n",
       "      <td>AAPL</td>\n",
       "      <td>Sale (Partial)</td>\n",
       "      <td>$1,001 - $15,000</td>\n",
       "      <td>Capito, Shelley Moore</td>\n",
       "      <td>Senate / R</td>\n",
       "      <td>Oct. 05, 2024</td>\n",
       "      <td>Sep. 20, 2024</td>\n",
       "    </tr>\n",
       "    <tr>\n",
       "      <th>1</th>\n",
       "      <td>AAPL</td>\n",
       "      <td>Purchase</td>\n",
       "      <td>$1,001 - $15,000</td>\n",
       "      <td>Josh Gottheimer</td>\n",
       "      <td>House / D</td>\n",
       "      <td>Oct. 03, 2024</td>\n",
       "      <td>Sep. 12, 2024</td>\n",
       "    </tr>\n",
       "    <tr>\n",
       "      <th>2</th>\n",
       "      <td>AAPL</td>\n",
       "      <td>Sale</td>\n",
       "      <td>$1,001 - $15,000</td>\n",
       "      <td>John James</td>\n",
       "      <td>House / R</td>\n",
       "      <td>Sep. 06, 2024</td>\n",
       "      <td>Sep. 04, 2024</td>\n",
       "    </tr>\n",
       "    <tr>\n",
       "      <th>3</th>\n",
       "      <td>AAPL</td>\n",
       "      <td>Purchase</td>\n",
       "      <td>$1,001 - $15,000</td>\n",
       "      <td>Marjorie Taylor Mrs Greene</td>\n",
       "      <td>House / R</td>\n",
       "      <td>Sep. 04, 2024</td>\n",
       "      <td>Sep. 03, 2024</td>\n",
       "    </tr>\n",
       "    <tr>\n",
       "      <th>4</th>\n",
       "      <td>AAPL</td>\n",
       "      <td>Sale (Full)</td>\n",
       "      <td>$15,001 - $50,000</td>\n",
       "      <td>Tuberville, Tommy</td>\n",
       "      <td>Senate / R</td>\n",
       "      <td>Sep. 13, 2024</td>\n",
       "      <td>Aug. 26, 2024</td>\n",
       "    </tr>\n",
       "    <tr>\n",
       "      <th>...</th>\n",
       "      <td>...</td>\n",
       "      <td>...</td>\n",
       "      <td>...</td>\n",
       "      <td>...</td>\n",
       "      <td>...</td>\n",
       "      <td>...</td>\n",
       "      <td>...</td>\n",
       "    </tr>\n",
       "    <tr>\n",
       "      <th>5968</th>\n",
       "      <td>WMT</td>\n",
       "      <td>Sale</td>\n",
       "      <td>$1,001 - $15,000</td>\n",
       "      <td>Thomas Macarthur</td>\n",
       "      <td>House / R</td>\n",
       "      <td>Jun. 07, 2015</td>\n",
       "      <td>May. 27, 2015</td>\n",
       "    </tr>\n",
       "    <tr>\n",
       "      <th>5969</th>\n",
       "      <td>WMT</td>\n",
       "      <td>Sale</td>\n",
       "      <td>$1,001 - $15,000</td>\n",
       "      <td>Mr. K. Michael Conaway</td>\n",
       "      <td>House / R</td>\n",
       "      <td>Aug. 18, 2014</td>\n",
       "      <td>Jun. 27, 2014</td>\n",
       "    </tr>\n",
       "    <tr>\n",
       "      <th>5970</th>\n",
       "      <td>WMT</td>\n",
       "      <td>Sale (Full)</td>\n",
       "      <td>$1,001 - $15,000</td>\n",
       "      <td>Collins, Susan M.</td>\n",
       "      <td>Senate / R</td>\n",
       "      <td>Jun. 27, 2014</td>\n",
       "      <td>Jun. 19, 2014</td>\n",
       "    </tr>\n",
       "    <tr>\n",
       "      <th>5971</th>\n",
       "      <td>WMT</td>\n",
       "      <td>Sale</td>\n",
       "      <td>$15,001 - $50,000</td>\n",
       "      <td>Thomas J. Rooney</td>\n",
       "      <td>House / R</td>\n",
       "      <td>Jan. 16, 2017</td>\n",
       "      <td>May. 01, 2014</td>\n",
       "    </tr>\n",
       "    <tr>\n",
       "      <th>5972</th>\n",
       "      <td>WMT</td>\n",
       "      <td>Sale</td>\n",
       "      <td>$15,001 - $50,000</td>\n",
       "      <td>John A. Boehner</td>\n",
       "      <td>House / R</td>\n",
       "      <td>Mar. 04, 2014</td>\n",
       "      <td>Feb. 25, 2014</td>\n",
       "    </tr>\n",
       "  </tbody>\n",
       "</table>\n",
       "<p>5973 rows × 7 columns</p>\n",
       "</div>"
      ],
      "text/plain": [
       "     Stock Name Transaction Type Transaction Amount  \\\n",
       "0          AAPL   Sale (Partial)   $1,001 - $15,000   \n",
       "1          AAPL         Purchase   $1,001 - $15,000   \n",
       "2          AAPL             Sale   $1,001 - $15,000   \n",
       "3          AAPL         Purchase   $1,001 - $15,000   \n",
       "4          AAPL      Sale (Full)  $15,001 - $50,000   \n",
       "...         ...              ...                ...   \n",
       "5968        WMT             Sale   $1,001 - $15,000   \n",
       "5969        WMT             Sale   $1,001 - $15,000   \n",
       "5970        WMT      Sale (Full)   $1,001 - $15,000   \n",
       "5971        WMT             Sale  $15,001 - $50,000   \n",
       "5972        WMT             Sale  $15,001 - $50,000   \n",
       "\n",
       "                 Politician Name Politician Role     Date Filed    Date Traded  \n",
       "0          Capito, Shelley Moore      Senate / R  Oct. 05, 2024  Sep. 20, 2024  \n",
       "1                Josh Gottheimer       House / D  Oct. 03, 2024  Sep. 12, 2024  \n",
       "2                     John James       House / R  Sep. 06, 2024  Sep. 04, 2024  \n",
       "3     Marjorie Taylor Mrs Greene       House / R  Sep. 04, 2024  Sep. 03, 2024  \n",
       "4              Tuberville, Tommy      Senate / R  Sep. 13, 2024  Aug. 26, 2024  \n",
       "...                          ...             ...            ...            ...  \n",
       "5968            Thomas Macarthur       House / R  Jun. 07, 2015  May. 27, 2015  \n",
       "5969      Mr. K. Michael Conaway       House / R  Aug. 18, 2014  Jun. 27, 2014  \n",
       "5970           Collins, Susan M.      Senate / R  Jun. 27, 2014  Jun. 19, 2014  \n",
       "5971            Thomas J. Rooney       House / R  Jan. 16, 2017  May. 01, 2014  \n",
       "5972             John A. Boehner       House / R  Mar. 04, 2014  Feb. 25, 2014  \n",
       "\n",
       "[5973 rows x 7 columns]"
      ]
     },
     "execution_count": 6,
     "metadata": {},
     "output_type": "execute_result"
    }
   ],
   "source": [
    "import pandas as pd\n",
    "\n",
    "pd.set_option('display.max_columns', 100)\n",
    "\n",
    "df = pd.json_normalize(data)\n",
    "\n",
    "df"
   ]
  },
  {
   "cell_type": "code",
   "execution_count": 7,
   "metadata": {},
   "outputs": [
    {
     "name": "stdout",
     "output_type": "stream",
     "text": [
      "<class 'pandas.core.frame.DataFrame'>\n",
      "RangeIndex: 5973 entries, 0 to 5972\n",
      "Data columns (total 7 columns):\n",
      " #   Column              Non-Null Count  Dtype \n",
      "---  ------              --------------  ----- \n",
      " 0   Stock Name          5973 non-null   object\n",
      " 1   Transaction Type    5973 non-null   object\n",
      " 2   Transaction Amount  5973 non-null   object\n",
      " 3   Politician Name     5973 non-null   object\n",
      " 4   Politician Role     5973 non-null   object\n",
      " 5   Date Filed          5973 non-null   object\n",
      " 6   Date Traded         5973 non-null   object\n",
      "dtypes: object(7)\n",
      "memory usage: 326.8+ KB\n"
     ]
    }
   ],
   "source": [
    "df.info()"
   ]
  },
  {
   "cell_type": "code",
   "execution_count": 8,
   "metadata": {},
   "outputs": [
    {
     "name": "stdout",
     "output_type": "stream",
     "text": [
      "<class 'pandas.core.frame.DataFrame'>\n",
      "RangeIndex: 5973 entries, 0 to 5972\n",
      "Data columns (total 7 columns):\n",
      " #   Column              Non-Null Count  Dtype         \n",
      "---  ------              --------------  -----         \n",
      " 0   Stock Name          5973 non-null   object        \n",
      " 1   Transaction Type    5973 non-null   object        \n",
      " 2   Transaction Amount  5973 non-null   object        \n",
      " 3   Politician Name     5973 non-null   object        \n",
      " 4   Politician Role     5973 non-null   object        \n",
      " 5   Date Filed          5973 non-null   datetime64[ns]\n",
      " 6   Date Traded         5973 non-null   datetime64[ns]\n",
      "dtypes: datetime64[ns](2), object(5)\n",
      "memory usage: 326.8+ KB\n"
     ]
    }
   ],
   "source": [
    "df['Date Filed'] = pd.to_datetime(df['Date Filed'])\n",
    "df['Date Traded'] = pd.to_datetime(df['Date Traded'])\n",
    "\n",
    "df.info()"
   ]
  },
  {
   "cell_type": "code",
   "execution_count": 10,
   "metadata": {},
   "outputs": [
    {
     "data": {
      "text/html": [
       "<div>\n",
       "<style scoped>\n",
       "    .dataframe tbody tr th:only-of-type {\n",
       "        vertical-align: middle;\n",
       "    }\n",
       "\n",
       "    .dataframe tbody tr th {\n",
       "        vertical-align: top;\n",
       "    }\n",
       "\n",
       "    .dataframe thead th {\n",
       "        text-align: right;\n",
       "    }\n",
       "</style>\n",
       "<table border=\"1\" class=\"dataframe\">\n",
       "  <thead>\n",
       "    <tr style=\"text-align: right;\">\n",
       "      <th></th>\n",
       "      <th>Stock Name</th>\n",
       "      <th>Transaction Type</th>\n",
       "      <th>Transaction Amount</th>\n",
       "      <th>Politician Name</th>\n",
       "      <th>Politician Role</th>\n",
       "      <th>Date Filed</th>\n",
       "      <th>Date Traded</th>\n",
       "    </tr>\n",
       "  </thead>\n",
       "  <tbody>\n",
       "    <tr>\n",
       "      <th>0</th>\n",
       "      <td>AAPL</td>\n",
       "      <td>Sale (Partial)</td>\n",
       "      <td>$1,001 - $15,000</td>\n",
       "      <td>Capito, Shelley Moore</td>\n",
       "      <td>Senate / R</td>\n",
       "      <td>2024-10-05</td>\n",
       "      <td>2024-09-20</td>\n",
       "    </tr>\n",
       "    <tr>\n",
       "      <th>1</th>\n",
       "      <td>AAPL</td>\n",
       "      <td>Purchase</td>\n",
       "      <td>$1,001 - $15,000</td>\n",
       "      <td>Josh Gottheimer</td>\n",
       "      <td>House / D</td>\n",
       "      <td>2024-10-03</td>\n",
       "      <td>2024-09-12</td>\n",
       "    </tr>\n",
       "    <tr>\n",
       "      <th>2</th>\n",
       "      <td>AAPL</td>\n",
       "      <td>Sale</td>\n",
       "      <td>$1,001 - $15,000</td>\n",
       "      <td>John James</td>\n",
       "      <td>House / R</td>\n",
       "      <td>2024-09-06</td>\n",
       "      <td>2024-09-04</td>\n",
       "    </tr>\n",
       "    <tr>\n",
       "      <th>3</th>\n",
       "      <td>AAPL</td>\n",
       "      <td>Purchase</td>\n",
       "      <td>$1,001 - $15,000</td>\n",
       "      <td>Marjorie Taylor Mrs Greene</td>\n",
       "      <td>House / R</td>\n",
       "      <td>2024-09-04</td>\n",
       "      <td>2024-09-03</td>\n",
       "    </tr>\n",
       "    <tr>\n",
       "      <th>4</th>\n",
       "      <td>AAPL</td>\n",
       "      <td>Sale (Full)</td>\n",
       "      <td>$15,001 - $50,000</td>\n",
       "      <td>Tuberville, Tommy</td>\n",
       "      <td>Senate / R</td>\n",
       "      <td>2024-09-13</td>\n",
       "      <td>2024-08-26</td>\n",
       "    </tr>\n",
       "    <tr>\n",
       "      <th>...</th>\n",
       "      <td>...</td>\n",
       "      <td>...</td>\n",
       "      <td>...</td>\n",
       "      <td>...</td>\n",
       "      <td>...</td>\n",
       "      <td>...</td>\n",
       "      <td>...</td>\n",
       "    </tr>\n",
       "    <tr>\n",
       "      <th>5968</th>\n",
       "      <td>WMT</td>\n",
       "      <td>Sale</td>\n",
       "      <td>$1,001 - $15,000</td>\n",
       "      <td>Thomas Macarthur</td>\n",
       "      <td>House / R</td>\n",
       "      <td>2015-06-07</td>\n",
       "      <td>2015-05-27</td>\n",
       "    </tr>\n",
       "    <tr>\n",
       "      <th>5969</th>\n",
       "      <td>WMT</td>\n",
       "      <td>Sale</td>\n",
       "      <td>$1,001 - $15,000</td>\n",
       "      <td>Mr. K. Michael Conaway</td>\n",
       "      <td>House / R</td>\n",
       "      <td>2014-08-18</td>\n",
       "      <td>2014-06-27</td>\n",
       "    </tr>\n",
       "    <tr>\n",
       "      <th>5970</th>\n",
       "      <td>WMT</td>\n",
       "      <td>Sale (Full)</td>\n",
       "      <td>$1,001 - $15,000</td>\n",
       "      <td>Collins, Susan M.</td>\n",
       "      <td>Senate / R</td>\n",
       "      <td>2014-06-27</td>\n",
       "      <td>2014-06-19</td>\n",
       "    </tr>\n",
       "    <tr>\n",
       "      <th>5971</th>\n",
       "      <td>WMT</td>\n",
       "      <td>Sale</td>\n",
       "      <td>$15,001 - $50,000</td>\n",
       "      <td>Thomas J. Rooney</td>\n",
       "      <td>House / R</td>\n",
       "      <td>2017-01-16</td>\n",
       "      <td>2014-05-01</td>\n",
       "    </tr>\n",
       "    <tr>\n",
       "      <th>5972</th>\n",
       "      <td>WMT</td>\n",
       "      <td>Sale</td>\n",
       "      <td>$15,001 - $50,000</td>\n",
       "      <td>John A. Boehner</td>\n",
       "      <td>House / R</td>\n",
       "      <td>2014-03-04</td>\n",
       "      <td>2014-02-25</td>\n",
       "    </tr>\n",
       "  </tbody>\n",
       "</table>\n",
       "<p>5973 rows × 7 columns</p>\n",
       "</div>"
      ],
      "text/plain": [
       "     Stock Name Transaction Type Transaction Amount  \\\n",
       "0          AAPL   Sale (Partial)   $1,001 - $15,000   \n",
       "1          AAPL         Purchase   $1,001 - $15,000   \n",
       "2          AAPL             Sale   $1,001 - $15,000   \n",
       "3          AAPL         Purchase   $1,001 - $15,000   \n",
       "4          AAPL      Sale (Full)  $15,001 - $50,000   \n",
       "...         ...              ...                ...   \n",
       "5968        WMT             Sale   $1,001 - $15,000   \n",
       "5969        WMT             Sale   $1,001 - $15,000   \n",
       "5970        WMT      Sale (Full)   $1,001 - $15,000   \n",
       "5971        WMT             Sale  $15,001 - $50,000   \n",
       "5972        WMT             Sale  $15,001 - $50,000   \n",
       "\n",
       "                 Politician Name Politician Role Date Filed Date Traded  \n",
       "0          Capito, Shelley Moore      Senate / R 2024-10-05  2024-09-20  \n",
       "1                Josh Gottheimer       House / D 2024-10-03  2024-09-12  \n",
       "2                     John James       House / R 2024-09-06  2024-09-04  \n",
       "3     Marjorie Taylor Mrs Greene       House / R 2024-09-04  2024-09-03  \n",
       "4              Tuberville, Tommy      Senate / R 2024-09-13  2024-08-26  \n",
       "...                          ...             ...        ...         ...  \n",
       "5968            Thomas Macarthur       House / R 2015-06-07  2015-05-27  \n",
       "5969      Mr. K. Michael Conaway       House / R 2014-08-18  2014-06-27  \n",
       "5970           Collins, Susan M.      Senate / R 2014-06-27  2014-06-19  \n",
       "5971            Thomas J. Rooney       House / R 2017-01-16  2014-05-01  \n",
       "5972             John A. Boehner       House / R 2014-03-04  2014-02-25  \n",
       "\n",
       "[5973 rows x 7 columns]"
      ]
     },
     "execution_count": 10,
     "metadata": {},
     "output_type": "execute_result"
    }
   ],
   "source": [
    "df"
   ]
  },
  {
   "cell_type": "code",
   "execution_count": 9,
   "metadata": {},
   "outputs": [
    {
     "name": "stdout",
     "output_type": "stream",
     "text": [
      "Done\n"
     ]
    }
   ],
   "source": [
    "df.to_parquet('../../data/datasets/congressional_trades.parquet')\n",
    "\n",
    "print('Done')"
   ]
  }
 ],
 "metadata": {
  "kernelspec": {
   "display_name": "finance",
   "language": "python",
   "name": "python3"
  },
  "language_info": {
   "codemirror_mode": {
    "name": "ipython",
    "version": 3
   },
   "file_extension": ".py",
   "mimetype": "text/x-python",
   "name": "python",
   "nbconvert_exporter": "python",
   "pygments_lexer": "ipython3",
   "version": "3.11.9"
  }
 },
 "nbformat": 4,
 "nbformat_minor": 2
}
